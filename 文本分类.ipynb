{
 "cells": [
  {
   "cell_type": "code",
   "execution_count": 9,
   "metadata": {},
   "outputs": [],
   "source": [
    "%matplotlib inline\n",
    "import torch\n",
    "import torchtext\n",
    "from torchtext.datasets import text_classification\n",
    "NGRAMS = 2\n",
    "import os\n",
    "if not os.path.isdir('./.data'):\n",
    "    os.mkdir('./.data')\n",
    "# 此处为原教程中使用的代码，可以自动下载所需数据，国内由于网络原因会导致连接失败，后面会导入本地数据\n",
    "# train_dataset, test_dataset = text_classification.DATASETS['AG_NEWS'](\n",
    "#     root='./.data', ngrams=NGRAMS, vocab=None)\n",
    "BATCH_SIZE = 16\n",
    "device = torch.device(\"cuda\" if torch.cuda.is_available() else \"cpu\")\n"
   ]
  },
  {
   "cell_type": "code",
   "execution_count": 10,
   "metadata": {},
   "outputs": [],
   "source": [
    "import logging\n",
    "from torchtext.utils import extract_archive,unicode_csv_reader\n",
    "from torchtext.vocab import build_vocab_from_iterator\n",
    "from torchtext.datasets.text_classification import *\n",
    "from torchtext.datasets.text_classification import _csv_iterator,_create_data_from_iterator\n",
    "\n",
    "def _setup_datasets(dataset_tar='./.data/ag_news_csv.tar.gz',dataset_name=\"AG_NEWS\", root='./.data', ngrams=NGRAMS, vocab=None, include_unk=False):\n",
    "    extracted_files = extract_archive(dataset_tar)\n",
    "    for fname in extracted_files:\n",
    "        if fname.endswith(\"train.csv\"):\n",
    "            train_csv_path = fname\n",
    "        if fname.endswith(\"test.csv\"):\n",
    "            test_csv_path =fname\n",
    "    \n",
    "    if vocab is None:\n",
    "        logging.info('Building Vocab based on {}'.format(train_csv_path))\n",
    "        vocab = build_vocab_from_iterator(_csv_iterator(train_csv_path,ngrams))\n",
    "    else:\n",
    "        if not isinstance(vocab,Vocab):\n",
    "            raise TypeError(\"Passed vocabulary is not of type Vocab\")\n",
    "    logging.info('Vocab has {} entries'.format(len(vocab)))\n",
    "    logging.info('Creating training data')\n",
    "    train_data, train_labels = _create_data_from_iterator(   #创建训练数据\n",
    "        vocab, _csv_iterator(train_csv_path, ngrams, yield_cls=True), include_unk) \n",
    "    logging.info('Creating testing data')\n",
    "    test_data, test_labels = _create_data_from_iterator(   #创建测试数据\n",
    "        vocab, _csv_iterator(test_csv_path, ngrams, yield_cls=True), include_unk)\n",
    "    if len(train_labels ^ test_labels) > 0:\n",
    "        raise ValueError(\"Training and test labels don't match\")\n",
    "    return (TextClassificationDataset(vocab, train_data, train_labels),  #返回数据集实例\n",
    "            TextClassificationDataset(vocab, test_data, test_labels))"
   ]
  },
  {
   "cell_type": "code",
   "execution_count": 11,
   "metadata": {},
   "outputs": [
    {
     "name": "stderr",
     "output_type": "stream",
     "text": [
      "120000lines [00:06, 17840.67lines/s]\n",
      "120000lines [00:12, 9830.40lines/s] \n",
      "7600lines [00:00, 10043.87lines/s]\n"
     ]
    }
   ],
   "source": [
    "train_dataset, test_dataset = _setup_datasets()"
   ]
  },
  {
   "cell_type": "code",
   "execution_count": 12,
   "metadata": {},
   "outputs": [],
   "source": [
    "import torch.nn as nn\n",
    "import torch.nn.functional as F\n",
    "class TextSentiment(nn.Module):\n",
    "    def __init__(self,vocab_size,embed_dim,num_class):\n",
    "        super().__init__()\n",
    "        self.embedding = nn.EmbeddingBag(vocab_size,embed_dim,sparse=True)\n",
    "        self.fc = nn.Linear(embed_dim,num_class)\n",
    "        self.init_weigths()\n",
    "        \n",
    "    def init_weigths(self):\n",
    "        inirange = 0.5\n",
    "        self.embedding.weight.data.uniform_(-inirange,inirange)\n",
    "        self.fc.weight.data.uniform_(-inirange,inirange)\n",
    "        self.fc.bias.data.zero_()\n",
    "    \n",
    "    def forward(self,x):\n",
    "        embedded = self.embedding(text,offsets)\n",
    "        return self.fc(embedded)"
   ]
  },
  {
   "cell_type": "code",
   "execution_count": 13,
   "metadata": {},
   "outputs": [],
   "source": [
    "VOCAB_SIZE = len(train_dataset.get_vocab())\n",
    "EMBED_DIM = 32\n",
    "NUN_CLASS = len(train_dataset.get_labels())\n",
    "model = TextSentiment(VOCAB_SIZE, EMBED_DIM, NUN_CLASS).to(device)"
   ]
  },
  {
   "cell_type": "code",
   "execution_count": 14,
   "metadata": {},
   "outputs": [],
   "source": [
    "def generate_batch(batch):\n",
    "    label = torch.tensor([entry[0] for entry in batch])\n",
    "    text = [entry[1] for entry in batch]\n",
    "    offsets = [0]+[len(entry) for entry in text]\n",
    "    \n",
    "    offsets = torch.tensor(offsets[:-1]).cumsum(dim=0)\n",
    "    text = torch.cat(text)\n",
    "    return text,offsets,label"
   ]
  },
  {
   "cell_type": "code",
   "execution_count": null,
   "metadata": {},
   "outputs": [],
   "source": []
  },
  {
   "cell_type": "code",
   "execution_count": null,
   "metadata": {},
   "outputs": [],
   "source": []
  },
  {
   "cell_type": "code",
   "execution_count": null,
   "metadata": {},
   "outputs": [],
   "source": []
  },
  {
   "cell_type": "code",
   "execution_count": null,
   "metadata": {},
   "outputs": [],
   "source": []
  },
  {
   "cell_type": "code",
   "execution_count": null,
   "metadata": {},
   "outputs": [],
   "source": []
  }
 ],
 "metadata": {
  "kernelspec": {
   "display_name": "Python 3",
   "language": "python",
   "name": "python3"
  },
  "language_info": {
   "codemirror_mode": {
    "name": "ipython",
    "version": 3
   },
   "file_extension": ".py",
   "mimetype": "text/x-python",
   "name": "python",
   "nbconvert_exporter": "python",
   "pygments_lexer": "ipython3",
   "version": "3.7.6"
  }
 },
 "nbformat": 4,
 "nbformat_minor": 4
}
