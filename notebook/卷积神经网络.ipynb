<<<<<<< HEAD
{
 "cells": [
  {
   "cell_type": "code",
   "execution_count": 8,
   "metadata": {},
   "outputs": [],
   "source": [
    "import torch\n",
    "import torch.nn as nn\n",
    "import torchvision\n",
    "import torchvision.transforms as transforms"
   ]
  },
  {
   "cell_type": "code",
   "execution_count": 9,
   "metadata": {},
   "outputs": [],
   "source": [
    "device = torch.device(\"cuda\" if torch.cuda.is_available() else \"cpu\")"
   ]
  },
  {
   "cell_type": "code",
   "execution_count": 10,
   "metadata": {},
   "outputs": [],
   "source": [
    "###定义超参数\n",
    "num_epochs = 5\n",
    "num_classes = 10\n",
    "batch_size = 100\n",
    "learning_rate = 0.001\n",
    "\n",
    "# MNIST dataset\n",
    "train_dataset = torchvision.datasets.MNIST(root='../../data/',\n",
    "                                           train=True, \n",
    "                                           transform=transforms.ToTensor(),\n",
    "                                           download=True)\n",
    "\n",
    "test_dataset = torchvision.datasets.MNIST(root='../../data/',\n",
    "                                          train=False, \n",
    "                                          transform=transforms.ToTensor())\n",
    "\n",
    "# Data loader\n",
    "train_loader = torch.utils.data.DataLoader(dataset=train_dataset,\n",
    "                                           batch_size=batch_size, \n",
    "                                           shuffle=True)\n",
    "\n",
    "test_loader = torch.utils.data.DataLoader(dataset=test_dataset,\n",
    "                                          batch_size=batch_size, \n",
    "                                          shuffle=False)"
   ]
  },
  {
   "cell_type": "code",
   "execution_count": 21,
   "metadata": {},
   "outputs": [],
   "source": [
    "##定义一个卷积神经网络\n",
    "class Convnet(nn.Module):\n",
    "    def __init__(self,num_classes=10):\n",
    "        super(Convnet,self).__init__()\n",
    "        self.layer1 = nn.Sequential(\n",
    "            nn.Conv2d(1,16,kernel_size=5,stride=1,padding=2),\n",
    "            nn.BatchNorm2d(16),\n",
    "            nn.ReLU(),\n",
    "            nn.MaxPool2d(kernel_size=2,stride=2)\n",
    "        )\n",
    "        self.layer2 = nn.Sequential(\n",
    "            nn.Conv2d(16,32,kernel_size=5,stride=1,padding=2),\n",
    "            nn.BatchNorm2d(32),\n",
    "            nn.ReLU(),\n",
    "            nn.MaxPool2d(kernel_size=2,stride=2)\n",
    "        )\n",
    "        \n",
    "        self.fc = nn.Linear(7*7*32,num_classes)\n",
    "        \n",
    "    def forward(self,x):\n",
    "        output = self.layer1(x)\n",
    "        output = self.layer2(output)\n",
    "        out = output.reshape(output.size(0),-1)\n",
    "        output = self.fc(out)\n",
    "        return output\n",
    "    \n",
    "    "
   ]
  },
  {
   "cell_type": "code",
   "execution_count": 22,
   "metadata": {},
   "outputs": [],
   "source": [
    "model = Convnet(num_classes).to(device)"
   ]
  },
  {
   "cell_type": "code",
   "execution_count": 23,
   "metadata": {},
   "outputs": [],
   "source": [
    "##定义损失函数和优化器\n",
    "loss_fn = nn.CrossEntropyLoss()\n",
    "optimizer = torch.optim.Adam(model.parameters(),lr= learning_rate)"
   ]
  },
  {
   "cell_type": "code",
   "execution_count": 25,
   "metadata": {},
   "outputs": [
    {
     "name": "stdout",
     "output_type": "stream",
     "text": [
      "Epoch [1/5], Step [100/600], Loss: 0.1450\n",
      "Epoch [1/5], Step [200/600], Loss: 0.0444\n",
      "Epoch [1/5], Step [300/600], Loss: 0.0950\n",
      "Epoch [1/5], Step [400/600], Loss: 0.0351\n",
      "Epoch [1/5], Step [500/600], Loss: 0.0189\n",
      "Epoch [1/5], Step [600/600], Loss: 0.0725\n",
      "Epoch [2/5], Step [100/600], Loss: 0.0184\n",
      "Epoch [2/5], Step [200/600], Loss: 0.0221\n",
      "Epoch [2/5], Step [300/600], Loss: 0.0838\n",
      "Epoch [2/5], Step [400/600], Loss: 0.1058\n",
      "Epoch [2/5], Step [500/600], Loss: 0.0178\n",
      "Epoch [2/5], Step [600/600], Loss: 0.0504\n",
      "Epoch [3/5], Step [100/600], Loss: 0.0079\n",
      "Epoch [3/5], Step [200/600], Loss: 0.0158\n",
      "Epoch [3/5], Step [300/600], Loss: 0.0079\n",
      "Epoch [3/5], Step [400/600], Loss: 0.0180\n",
      "Epoch [3/5], Step [500/600], Loss: 0.0395\n",
      "Epoch [3/5], Step [600/600], Loss: 0.0284\n",
      "Epoch [4/5], Step [100/600], Loss: 0.0168\n",
      "Epoch [4/5], Step [200/600], Loss: 0.0056\n",
      "Epoch [4/5], Step [300/600], Loss: 0.0614\n",
      "Epoch [4/5], Step [400/600], Loss: 0.1055\n",
      "Epoch [4/5], Step [500/600], Loss: 0.0304\n",
      "Epoch [4/5], Step [600/600], Loss: 0.1022\n",
      "Epoch [5/5], Step [100/600], Loss: 0.0248\n",
      "Epoch [5/5], Step [200/600], Loss: 0.0034\n",
      "Epoch [5/5], Step [300/600], Loss: 0.0254\n",
      "Epoch [5/5], Step [400/600], Loss: 0.0034\n",
      "Epoch [5/5], Step [500/600], Loss: 0.0030\n",
      "Epoch [5/5], Step [600/600], Loss: 0.0496\n"
     ]
    }
   ],
   "source": [
    "###训练模型\n",
    "total_step = len(train_loader)\n",
    "for epoch in range(num_epochs):\n",
    "    for i, (images, labels) in enumerate(train_loader):\n",
    "        images = images.to(device)\n",
    "        labels = labels.to(device)\n",
    "        \n",
    "        # Forward pass\n",
    "        outputs = model(images)\n",
    "        loss = loss_fn(outputs, labels)\n",
    "        \n",
    "        # Backward and optimize\n",
    "        optimizer.zero_grad()\n",
    "        loss.backward()\n",
    "        optimizer.step()\n",
    "        \n",
    "        if (i+1) % 100 == 0:\n",
    "            print ('Epoch [{}/{}], Step [{}/{}], Loss: {:.4f}' \n",
    "                   .format(epoch+1, num_epochs, i+1, total_step, loss.item()))"
   ]
  },
  {
   "cell_type": "code",
   "execution_count": null,
   "metadata": {},
   "outputs": [],
   "source": []
  },
  {
   "cell_type": "code",
   "execution_count": null,
   "metadata": {},
   "outputs": [],
   "source": []
  },
  {
   "cell_type": "code",
   "execution_count": null,
   "metadata": {},
   "outputs": [],
   "source": []
  },
  {
   "cell_type": "code",
   "execution_count": null,
   "metadata": {},
   "outputs": [],
   "source": []
  },
  {
   "cell_type": "code",
   "execution_count": null,
   "metadata": {},
   "outputs": [],
   "source": []
  },
  {
   "cell_type": "code",
   "execution_count": null,
   "metadata": {},
   "outputs": [],
   "source": []
  },
  {
   "cell_type": "code",
   "execution_count": null,
   "metadata": {},
   "outputs": [],
   "source": []
  },
  {
   "cell_type": "code",
   "execution_count": null,
   "metadata": {},
   "outputs": [],
   "source": []
  },
  {
   "cell_type": "code",
   "execution_count": null,
   "metadata": {},
   "outputs": [],
   "source": []
  }
 ],
 "metadata": {
  "kernelspec": {
   "display_name": "Python 3",
   "language": "python",
   "name": "python3"
  },
  "language_info": {
   "codemirror_mode": {
    "name": "ipython",
    "version": 3
   },
   "file_extension": ".py",
   "mimetype": "text/x-python",
   "name": "python",
   "nbconvert_exporter": "python",
   "pygments_lexer": "ipython3",
   "version": "3.7.6"
  }
 },
 "nbformat": 4,
 "nbformat_minor": 4
}
=======
{
 "cells": [
  {
   "cell_type": "code",
   "execution_count": 8,
   "metadata": {},
   "outputs": [],
   "source": [
    "import torch\n",
    "import torch.nn as nn\n",
    "import torchvision\n",
    "import torchvision.transforms as transforms"
   ]
  },
  {
   "cell_type": "code",
   "execution_count": 9,
   "metadata": {},
   "outputs": [],
   "source": [
    "device = torch.device(\"cuda\" if torch.cuda.is_available() else \"cpu\")"
   ]
  },
  {
   "cell_type": "code",
   "execution_count": 10,
   "metadata": {},
   "outputs": [],
   "source": [
    "###定义超参数\n",
    "num_epochs = 5\n",
    "num_classes = 10\n",
    "batch_size = 100\n",
    "learning_rate = 0.001\n",
    "\n",
    "# MNIST dataset\n",
    "train_dataset = torchvision.datasets.MNIST(root='../../data/',\n",
    "                                           train=True, \n",
    "                                           transform=transforms.ToTensor(),\n",
    "                                           download=True)\n",
    "\n",
    "test_dataset = torchvision.datasets.MNIST(root='../../data/',\n",
    "                                          train=False, \n",
    "                                          transform=transforms.ToTensor())\n",
    "\n",
    "# Data loader\n",
    "train_loader = torch.utils.data.DataLoader(dataset=train_dataset,\n",
    "                                           batch_size=batch_size, \n",
    "                                           shuffle=True)\n",
    "\n",
    "test_loader = torch.utils.data.DataLoader(dataset=test_dataset,\n",
    "                                          batch_size=batch_size, \n",
    "                                          shuffle=False)"
   ]
  },
  {
   "cell_type": "code",
   "execution_count": 21,
   "metadata": {},
   "outputs": [],
   "source": [
    "##定义一个卷积神经网络\n",
    "class Convnet(nn.Module):\n",
    "    def __init__(self,num_classes=10):\n",
    "        super(Convnet,self).__init__()\n",
    "        self.layer1 = nn.Sequential(\n",
    "            nn.Conv2d(1,16,kernel_size=5,stride=1,padding=2),\n",
    "            nn.BatchNorm2d(16),\n",
    "            nn.ReLU(),\n",
    "            nn.MaxPool2d(kernel_size=2,stride=2)\n",
    "        )\n",
    "        self.layer2 = nn.Sequential(\n",
    "            nn.Conv2d(16,32,kernel_size=5,stride=1,padding=2),\n",
    "            nn.BatchNorm2d(32),\n",
    "            nn.ReLU(),\n",
    "            nn.MaxPool2d(kernel_size=2,stride=2)\n",
    "        )\n",
    "        \n",
    "        self.fc = nn.Linear(7*7*32,num_classes)\n",
    "        \n",
    "    def forward(self,x):\n",
    "        output = self.layer1(x)\n",
    "        output = self.layer2(output)\n",
    "        out = output.reshape(output.size(0),-1)\n",
    "        output = self.fc(out)\n",
    "        return output\n",
    "    \n",
    "    "
   ]
  },
  {
   "cell_type": "code",
   "execution_count": 22,
   "metadata": {},
   "outputs": [],
   "source": [
    "model = Convnet(num_classes).to(device)"
   ]
  },
  {
   "cell_type": "code",
   "execution_count": 23,
   "metadata": {},
   "outputs": [],
   "source": [
    "##定义损失函数和优化器\n",
    "loss_fn = nn.CrossEntropyLoss()\n",
    "optimizer = torch.optim.Adam(model.parameters(),lr= learning_rate)"
   ]
  },
  {
   "cell_type": "code",
   "execution_count": 25,
   "metadata": {},
   "outputs": [
    {
     "name": "stdout",
     "output_type": "stream",
     "text": [
      "Epoch [1/5], Step [100/600], Loss: 0.1450\n",
      "Epoch [1/5], Step [200/600], Loss: 0.0444\n",
      "Epoch [1/5], Step [300/600], Loss: 0.0950\n",
      "Epoch [1/5], Step [400/600], Loss: 0.0351\n",
      "Epoch [1/5], Step [500/600], Loss: 0.0189\n",
      "Epoch [1/5], Step [600/600], Loss: 0.0725\n",
      "Epoch [2/5], Step [100/600], Loss: 0.0184\n",
      "Epoch [2/5], Step [200/600], Loss: 0.0221\n",
      "Epoch [2/5], Step [300/600], Loss: 0.0838\n",
      "Epoch [2/5], Step [400/600], Loss: 0.1058\n",
      "Epoch [2/5], Step [500/600], Loss: 0.0178\n",
      "Epoch [2/5], Step [600/600], Loss: 0.0504\n",
      "Epoch [3/5], Step [100/600], Loss: 0.0079\n",
      "Epoch [3/5], Step [200/600], Loss: 0.0158\n",
      "Epoch [3/5], Step [300/600], Loss: 0.0079\n",
      "Epoch [3/5], Step [400/600], Loss: 0.0180\n",
      "Epoch [3/5], Step [500/600], Loss: 0.0395\n",
      "Epoch [3/5], Step [600/600], Loss: 0.0284\n",
      "Epoch [4/5], Step [100/600], Loss: 0.0168\n",
      "Epoch [4/5], Step [200/600], Loss: 0.0056\n",
      "Epoch [4/5], Step [300/600], Loss: 0.0614\n",
      "Epoch [4/5], Step [400/600], Loss: 0.1055\n",
      "Epoch [4/5], Step [500/600], Loss: 0.0304\n",
      "Epoch [4/5], Step [600/600], Loss: 0.1022\n",
      "Epoch [5/5], Step [100/600], Loss: 0.0248\n",
      "Epoch [5/5], Step [200/600], Loss: 0.0034\n",
      "Epoch [5/5], Step [300/600], Loss: 0.0254\n",
      "Epoch [5/5], Step [400/600], Loss: 0.0034\n",
      "Epoch [5/5], Step [500/600], Loss: 0.0030\n",
      "Epoch [5/5], Step [600/600], Loss: 0.0496\n"
     ]
    }
   ],
   "source": [
    "###训练模型\n",
    "total_step = len(train_loader)\n",
    "for epoch in range(num_epochs):\n",
    "    for i, (images, labels) in enumerate(train_loader):\n",
    "        images = images.to(device)\n",
    "        labels = labels.to(device)\n",
    "        \n",
    "        # Forward pass\n",
    "        outputs = model(images)\n",
    "        loss = loss_fn(outputs, labels)\n",
    "        \n",
    "        # Backward and optimize\n",
    "        optimizer.zero_grad()\n",
    "        loss.backward()\n",
    "        optimizer.step()\n",
    "        \n",
    "        if (i+1) % 100 == 0:\n",
    "            print ('Epoch [{}/{}], Step [{}/{}], Loss: {:.4f}' \n",
    "                   .format(epoch+1, num_epochs, i+1, total_step, loss.item()))"
   ]
  },
  {
   "cell_type": "code",
   "execution_count": null,
   "metadata": {},
   "outputs": [],
   "source": []
  },
  {
   "cell_type": "code",
   "execution_count": null,
   "metadata": {},
   "outputs": [],
   "source": []
  },
  {
   "cell_type": "code",
   "execution_count": null,
   "metadata": {},
   "outputs": [],
   "source": []
  },
  {
   "cell_type": "code",
   "execution_count": null,
   "metadata": {},
   "outputs": [],
   "source": []
  },
  {
   "cell_type": "code",
   "execution_count": null,
   "metadata": {},
   "outputs": [],
   "source": []
  },
  {
   "cell_type": "code",
   "execution_count": null,
   "metadata": {},
   "outputs": [],
   "source": []
  },
  {
   "cell_type": "code",
   "execution_count": null,
   "metadata": {},
   "outputs": [],
   "source": []
  },
  {
   "cell_type": "code",
   "execution_count": null,
   "metadata": {},
   "outputs": [],
   "source": []
  },
  {
   "cell_type": "code",
   "execution_count": null,
   "metadata": {},
   "outputs": [],
   "source": []
  }
 ],
 "metadata": {
  "kernelspec": {
   "display_name": "Python 3",
   "language": "python",
   "name": "python3"
  },
  "language_info": {
   "codemirror_mode": {
    "name": "ipython",
    "version": 3
   },
   "file_extension": ".py",
   "mimetype": "text/x-python",
   "name": "python",
   "nbconvert_exporter": "python",
   "pygments_lexer": "ipython3",
   "version": "3.7.6"
  }
 },
 "nbformat": 4,
 "nbformat_minor": 4
}
>>>>>>> 616f62fac39d18ee53e3c0eb7ec0b82eb7ea9428
